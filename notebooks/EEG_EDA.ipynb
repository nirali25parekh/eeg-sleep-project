{
 "cells": [
  {
   "cell_type": "code",
   "execution_count": 1,
   "id": "92ca723c",
   "metadata": {},
   "outputs": [],
   "source": [
    "file_prefix = 'SC4021'\n",
    "\n",
    "psg_file_path = 'sleep-edf-database-expanded-1.0.0/sleep-cassette/'+file_prefix+'E0-PSG.edf'\n",
    "hypnogram_file_path = 'sleep-edf-database-expanded-1.0.0/sleep-cassette/'+file_prefix+'EH-Hypnogram.edf'"
   ]
  },
  {
   "cell_type": "code",
   "execution_count": 2,
   "id": "727c836a",
   "metadata": {},
   "outputs": [],
   "source": [
    "import matplotlib\n",
    "matplotlib.use(\"Qt5Agg\")"
   ]
  },
  {
   "cell_type": "code",
   "execution_count": 5,
   "id": "0bc7e91b",
   "metadata": {},
   "outputs": [],
   "source": [
    "import os\n",
    "from visbrain.gui import Sleep\n",
    "import pyedflib\n",
    "from pyedflib import highlevel\n",
    "import pandas as pd"
   ]
  },
  {
   "cell_type": "markdown",
   "id": "5b6696ee",
   "metadata": {},
   "source": [
    "GUI tool for viewing the edf files"
   ]
  },
  {
   "cell_type": "code",
   "execution_count": 6,
   "id": "e75102d2",
   "metadata": {},
   "outputs": [
    {
     "name": "stderr",
     "output_type": "stream",
     "text": [
      "Data successfully loaded (sleep-edf-database-expanded-1.0.0/sleep-cassette/SC4021E0-PSG.edf):\n",
      "- Sampling-frequency : 100.00Hz\n",
      "- Number of time points (before down-sampling): 8412000\n",
      "- Down-sampling frequency : 100.00Hz\n",
      "- Number of time points (after down-sampling): 8412000\n",
      "- Number of channels : 3\n",
      "Hypnogram successfully loaded (sleep-edf-database-expanded-1.0.0/sleep-cassette/SC4021EH-Hypnogram.edf)\n",
      "C:\\Users\\Nirali\\AppData\\Roaming\\Python\\Python39\\site-packages\\visbrain\\gui\\sleep\\visuals\\marker.py:565: FutureWarning: Passing (type, 1) or '1type' as a synonym of type is deprecated; in a future version of numpy, it will be understood as (type, (1,)) / '(1,)type'.\n",
      "  data = np.zeros(n, dtype=[('a_position', np.float32, 3),\n",
      "File already dowloaded (C:\\Users\\Nirali\\visbrain_data\\topo\\eegref.npz).\n",
      "\u001b[1m\u001b[1;33mWARNING\u001b[0m | Ignored channels for topoplot : EOGhorizontal\n",
      "File already dowloaded (C:\\Users\\Nirali\\visbrain_data\\topo\\eegref.npz).\n"
     ]
    }
   ],
   "source": [
    "Sleep(data=psg_file_path, hypno=hypnogram_file_path).show()"
   ]
  },
  {
   "cell_type": "markdown",
   "id": "845b0a30",
   "metadata": {},
   "source": [
    "# Read PSG file"
   ]
  },
  {
   "cell_type": "code",
   "execution_count": 5,
   "id": "415a2996",
   "metadata": {},
   "outputs": [
    {
     "name": "stderr",
     "output_type": "stream",
     "text": [
      "C:\\Users\\Nirali\\AppData\\Roaming\\Python\\Python39\\site-packages\\pyedflib\\highlevel.py:368: UserWarning: Not all sampling frequencies are the same ([100, 100, 100, 1, 1, 1, 1]). \n",
      "  warnings.warn('Not all sampling frequencies are the same ({}). '\\\n"
     ]
    }
   ],
   "source": [
    "signals, signal_headers, header = highlevel.read_edf(psg_file_path)"
   ]
  },
  {
   "cell_type": "code",
   "execution_count": 6,
   "id": "18a5fd20",
   "metadata": {},
   "outputs": [
    {
     "name": "stdout",
     "output_type": "stream",
     "text": [
      "signals length 7\n",
      "signals [array([11.49230769,  7.98461538,  6.23076923, ...,  3.09230769,\n",
      "        5.86153846,  9.09230769]), array([ -1.604884  ,   0.67301587,  -1.5013431 , ..., -41.05396825,\n",
      "        29.66446886, -15.78998779]), array([-92.88644689, -88.7985348 , -86.98168498, ..., -23.39194139,\n",
      "       -31.56776557, -26.11721612]), array([ 509., -370.,  770., ...,   57.,   81.,   79.]), array([3.39 , 3.402, 3.33 , ..., 3.542, 3.548, 3.558]), array([37.45289079, 37.43576017, 37.45717345, ..., 37.38222698,\n",
      "       37.375803  , 37.37901499]), array([ 996.,  999.,  996., ..., 1028., 1032., 1020.])]\n",
      "0  signal is of length : 8412000\n",
      "1  signal is of length : 8412000\n",
      "2  signal is of length : 8412000\n",
      "3  signal is of length : 84120\n",
      "4  signal is of length : 84120\n",
      "5  signal is of length : 84120\n",
      "6  signal is of length : 84120\n"
     ]
    }
   ],
   "source": [
    "print(\"signals length\", len(signals))\n",
    "print(\"signals\" , signals)\n",
    "for i in range(len(signals)):\n",
    "    print(i, \" signal is of length :\", len(signals[i]))"
   ]
  },
  {
   "cell_type": "code",
   "execution_count": 7,
   "id": "893653ec",
   "metadata": {},
   "outputs": [
    {
     "name": "stdout",
     "output_type": "stream",
     "text": [
      "signal headers length 7\n",
      "[{'label': 'EEG Fpz-Cz', 'dimension': 'uV', 'sample_rate': 100, 'physical_max': 189.0, 'physical_min': -189.0, 'digital_max': 2047, 'digital_min': -2048, 'prefilter': 'HP:0.5Hz LP:100Hz [enhanced cassette BW]', 'transducer': 'Ag-AgCl electrodes'}, {'label': 'EEG Pz-Oz', 'dimension': 'uV', 'sample_rate': 100, 'physical_max': 212.0, 'physical_min': -212.0, 'digital_max': 2047, 'digital_min': -2048, 'prefilter': 'HP:0.5Hz LP:100Hz [enhanced cassette BW]', 'transducer': 'Ag-AgCl electrodes'}, {'label': 'EOG horizontal', 'dimension': 'uV', 'sample_rate': 100, 'physical_max': 930.0, 'physical_min': -930.0, 'digital_max': 2047, 'digital_min': -2048, 'prefilter': 'HP:0.5Hz LP:100Hz [enhanced cassette BW]', 'transducer': 'Ag-AgCl electrodes'}, {'label': 'Resp oro-nasal', 'dimension': '', 'sample_rate': 1, 'physical_max': 2047.0, 'physical_min': -2048.0, 'digital_max': 2047, 'digital_min': -2048, 'prefilter': 'HP:0.03Hz LP:0.9Hz', 'transducer': 'Oral-nasal thermistors'}, {'label': 'EMG submental', 'dimension': 'uV', 'sample_rate': 1, 'physical_max': 5.0, 'physical_min': -5.0, 'digital_max': 2500, 'digital_min': -2500, 'prefilter': 'HP:16Hz Rectification LP:0.7Hz', 'transducer': 'Ag-AgCl electrodes'}, {'label': 'Temp rectal', 'dimension': 'DegC', 'sample_rate': 1, 'physical_max': 40.0, 'physical_min': 34.0, 'digital_max': 2867, 'digital_min': -2737, 'prefilter': '', 'transducer': 'Rectal thermistor'}, {'label': 'Event marker', 'dimension': '', 'sample_rate': 1, 'physical_max': 2048.0, 'physical_min': -2047.0, 'digital_max': 2048, 'digital_min': -2047, 'prefilter': 'Hold during 2 seconds', 'transducer': 'Marker button'}]\n"
     ]
    }
   ],
   "source": [
    "print(\"signal headers length\", len(signal_headers))\n",
    "print(signal_headers)"
   ]
  },
  {
   "cell_type": "markdown",
   "id": "f5380935",
   "metadata": {},
   "source": [
    "sampling frequency i.e. sampling rate means number of observations taken per second"
   ]
  },
  {
   "cell_type": "code",
   "execution_count": 8,
   "id": "c1d804ce",
   "metadata": {},
   "outputs": [
    {
     "data": {
      "text/html": [
       "<div>\n",
       "<style scoped>\n",
       "    .dataframe tbody tr th:only-of-type {\n",
       "        vertical-align: middle;\n",
       "    }\n",
       "\n",
       "    .dataframe tbody tr th {\n",
       "        vertical-align: top;\n",
       "    }\n",
       "\n",
       "    .dataframe thead th {\n",
       "        text-align: right;\n",
       "    }\n",
       "</style>\n",
       "<table border=\"1\" class=\"dataframe\">\n",
       "  <thead>\n",
       "    <tr style=\"text-align: right;\">\n",
       "      <th></th>\n",
       "      <th>label</th>\n",
       "      <th>dimension</th>\n",
       "      <th>sample_rate</th>\n",
       "      <th>physical_max</th>\n",
       "      <th>physical_min</th>\n",
       "      <th>digital_max</th>\n",
       "      <th>digital_min</th>\n",
       "      <th>prefilter</th>\n",
       "      <th>transducer</th>\n",
       "    </tr>\n",
       "  </thead>\n",
       "  <tbody>\n",
       "    <tr>\n",
       "      <th>0</th>\n",
       "      <td>EEG Fpz-Cz</td>\n",
       "      <td>uV</td>\n",
       "      <td>100</td>\n",
       "      <td>189.0</td>\n",
       "      <td>-189.0</td>\n",
       "      <td>2047</td>\n",
       "      <td>-2048</td>\n",
       "      <td>HP:0.5Hz LP:100Hz [enhanced cassette BW]</td>\n",
       "      <td>Ag-AgCl electrodes</td>\n",
       "    </tr>\n",
       "    <tr>\n",
       "      <th>1</th>\n",
       "      <td>EEG Pz-Oz</td>\n",
       "      <td>uV</td>\n",
       "      <td>100</td>\n",
       "      <td>212.0</td>\n",
       "      <td>-212.0</td>\n",
       "      <td>2047</td>\n",
       "      <td>-2048</td>\n",
       "      <td>HP:0.5Hz LP:100Hz [enhanced cassette BW]</td>\n",
       "      <td>Ag-AgCl electrodes</td>\n",
       "    </tr>\n",
       "    <tr>\n",
       "      <th>2</th>\n",
       "      <td>EOG horizontal</td>\n",
       "      <td>uV</td>\n",
       "      <td>100</td>\n",
       "      <td>930.0</td>\n",
       "      <td>-930.0</td>\n",
       "      <td>2047</td>\n",
       "      <td>-2048</td>\n",
       "      <td>HP:0.5Hz LP:100Hz [enhanced cassette BW]</td>\n",
       "      <td>Ag-AgCl electrodes</td>\n",
       "    </tr>\n",
       "    <tr>\n",
       "      <th>3</th>\n",
       "      <td>Resp oro-nasal</td>\n",
       "      <td></td>\n",
       "      <td>1</td>\n",
       "      <td>2047.0</td>\n",
       "      <td>-2048.0</td>\n",
       "      <td>2047</td>\n",
       "      <td>-2048</td>\n",
       "      <td>HP:0.03Hz LP:0.9Hz</td>\n",
       "      <td>Oral-nasal thermistors</td>\n",
       "    </tr>\n",
       "    <tr>\n",
       "      <th>4</th>\n",
       "      <td>EMG submental</td>\n",
       "      <td>uV</td>\n",
       "      <td>1</td>\n",
       "      <td>5.0</td>\n",
       "      <td>-5.0</td>\n",
       "      <td>2500</td>\n",
       "      <td>-2500</td>\n",
       "      <td>HP:16Hz Rectification LP:0.7Hz</td>\n",
       "      <td>Ag-AgCl electrodes</td>\n",
       "    </tr>\n",
       "    <tr>\n",
       "      <th>5</th>\n",
       "      <td>Temp rectal</td>\n",
       "      <td>DegC</td>\n",
       "      <td>1</td>\n",
       "      <td>40.0</td>\n",
       "      <td>34.0</td>\n",
       "      <td>2867</td>\n",
       "      <td>-2737</td>\n",
       "      <td></td>\n",
       "      <td>Rectal thermistor</td>\n",
       "    </tr>\n",
       "    <tr>\n",
       "      <th>6</th>\n",
       "      <td>Event marker</td>\n",
       "      <td></td>\n",
       "      <td>1</td>\n",
       "      <td>2048.0</td>\n",
       "      <td>-2047.0</td>\n",
       "      <td>2048</td>\n",
       "      <td>-2047</td>\n",
       "      <td>Hold during 2 seconds</td>\n",
       "      <td>Marker button</td>\n",
       "    </tr>\n",
       "  </tbody>\n",
       "</table>\n",
       "</div>"
      ],
      "text/plain": [
       "            label dimension  sample_rate  physical_max  physical_min  \\\n",
       "0      EEG Fpz-Cz        uV          100         189.0        -189.0   \n",
       "1       EEG Pz-Oz        uV          100         212.0        -212.0   \n",
       "2  EOG horizontal        uV          100         930.0        -930.0   \n",
       "3  Resp oro-nasal                      1        2047.0       -2048.0   \n",
       "4   EMG submental        uV            1           5.0          -5.0   \n",
       "5     Temp rectal      DegC            1          40.0          34.0   \n",
       "6    Event marker                      1        2048.0       -2047.0   \n",
       "\n",
       "   digital_max  digital_min                                 prefilter  \\\n",
       "0         2047        -2048  HP:0.5Hz LP:100Hz [enhanced cassette BW]   \n",
       "1         2047        -2048  HP:0.5Hz LP:100Hz [enhanced cassette BW]   \n",
       "2         2047        -2048  HP:0.5Hz LP:100Hz [enhanced cassette BW]   \n",
       "3         2047        -2048                        HP:0.03Hz LP:0.9Hz   \n",
       "4         2500        -2500            HP:16Hz Rectification LP:0.7Hz   \n",
       "5         2867        -2737                                             \n",
       "6         2048        -2047                     Hold during 2 seconds   \n",
       "\n",
       "               transducer  \n",
       "0      Ag-AgCl electrodes  \n",
       "1      Ag-AgCl electrodes  \n",
       "2      Ag-AgCl electrodes  \n",
       "3  Oral-nasal thermistors  \n",
       "4      Ag-AgCl electrodes  \n",
       "5       Rectal thermistor  \n",
       "6           Marker button  "
      ]
     },
     "execution_count": 8,
     "metadata": {},
     "output_type": "execute_result"
    }
   ],
   "source": [
    "signal_headers_df = pd.DataFrame(signal_headers)\n",
    "signal_headers_df.head(10)"
   ]
  },
  {
   "cell_type": "code",
   "execution_count": 9,
   "id": "59e4b527",
   "metadata": {},
   "outputs": [
    {
     "name": "stdout",
     "output_type": "stream",
     "text": [
      "headers length 11\n",
      "{'technician': '', 'recording_additional': '', 'patientname': '', 'patient_additional': '', 'patientcode': '', 'equipment': '', 'admincode': '', 'gender': '', 'startdate': datetime.datetime(1989, 4, 5, 16, 48), 'birthdate': '', 'annotations': []}\n"
     ]
    }
   ],
   "source": [
    "print(\"headers length\", len(header))\n",
    "print(header)"
   ]
  },
  {
   "cell_type": "markdown",
   "id": "5b76cbb3",
   "metadata": {},
   "source": [
    "# Read hypnogram file"
   ]
  },
  {
   "cell_type": "code",
   "execution_count": 10,
   "id": "0d7c0291",
   "metadata": {},
   "outputs": [],
   "source": [
    "hyp_signals, hyp_signal_headers, hyp_header = highlevel.read_edf(hypnogram_file_path)"
   ]
  },
  {
   "cell_type": "code",
   "execution_count": 11,
   "id": "4b92de58",
   "metadata": {},
   "outputs": [
    {
     "name": "stdout",
     "output_type": "stream",
     "text": [
      "len of signals 0\n",
      "len of signal_headers 0\n",
      "len of header 11\n"
     ]
    }
   ],
   "source": [
    "print(\"len of signals\", len(hyp_signals))\n",
    "print(\"len of signal_headers\", len(hyp_signal_headers))\n",
    "print(\"len of header\", len(hyp_header))"
   ]
  },
  {
   "cell_type": "code",
   "execution_count": 12,
   "id": "f5a0f00a",
   "metadata": {},
   "outputs": [
    {
     "name": "stdout",
     "output_type": "stream",
     "text": [
      "dict_keys(['technician', 'recording_additional', 'patientname', 'patient_additional', 'patientcode', 'equipment', 'admincode', 'gender', 'startdate', 'birthdate', 'annotations'])\n"
     ]
    }
   ],
   "source": [
    "print(hyp_header.keys(), sep='\\n')"
   ]
  },
  {
   "cell_type": "code",
   "execution_count": 13,
   "id": "a6f94a02",
   "metadata": {},
   "outputs": [
    {
     "name": "stdout",
     "output_type": "stream",
     "text": [
      "[0.0, b'21870', 'Sleep stage W']\n",
      "[21870.0, b'780', 'Sleep stage 1']\n",
      "[22650.0, b'30', 'Sleep stage W']\n",
      "[22680.0, b'450', 'Sleep stage 1']\n",
      "[23130.0, b'930', 'Sleep stage 2']\n",
      "[24060.0, b'30', 'Sleep stage W']\n",
      "[24090.0, b'450', 'Sleep stage 2']\n",
      "[24540.0, b'60', 'Sleep stage 3']\n",
      "[24600.0, b'60', 'Sleep stage 2']\n",
      "[24660.0, b'30', 'Sleep stage 3']\n",
      "[24690.0, b'30', 'Sleep stage 4']\n",
      "[24720.0, b'30', 'Sleep stage 3']\n",
      "[24750.0, b'30', 'Sleep stage 2']\n",
      "[24780.0, b'90', 'Sleep stage 3']\n",
      "[24870.0, b'30', 'Sleep stage 2']\n",
      "[24900.0, b'60', 'Sleep stage 3']\n",
      "[24960.0, b'30', 'Sleep stage 2']\n",
      "[24990.0, b'30', 'Sleep stage 3']\n",
      "[25020.0, b'90', 'Sleep stage 4']\n",
      "[25110.0, b'60', 'Sleep stage 3']\n",
      "[25170.0, b'90', 'Sleep stage 4']\n",
      "[25260.0, b'120', 'Sleep stage 3']\n",
      "[25380.0, b'30', 'Sleep stage 4']\n",
      "[25410.0, b'150', 'Sleep stage 2']\n",
      "[25560.0, b'30', 'Sleep stage 3']\n",
      "[25590.0, b'270', 'Sleep stage 2']\n",
      "[25860.0, b'30', 'Sleep stage 3']\n",
      "[25890.0, b'120', 'Sleep stage 2']\n",
      "[26010.0, b'30', 'Sleep stage 1']\n",
      "[26040.0, b'600', 'Sleep stage 2']\n",
      "[26640.0, b'30', 'Sleep stage R']\n",
      "[26670.0, b'90', 'Sleep stage 2']\n",
      "[26760.0, b'30', 'Sleep stage R']\n",
      "[26790.0, b'510', 'Sleep stage 2']\n",
      "[27300.0, b'30', 'Sleep stage 3']\n",
      "[27330.0, b'180', 'Sleep stage 2']\n",
      "[27510.0, b'30', 'Sleep stage 3']\n",
      "[27540.0, b'60', 'Sleep stage 2']\n",
      "[27600.0, b'60', 'Sleep stage 3']\n",
      "[27660.0, b'30', 'Sleep stage 4']\n",
      "[27690.0, b'120', 'Sleep stage 3']\n",
      "[27810.0, b'30', 'Sleep stage 2']\n",
      "[27840.0, b'60', 'Sleep stage 3']\n",
      "[27900.0, b'30', 'Sleep stage 4']\n",
      "[27930.0, b'60', 'Sleep stage 3']\n",
      "[27990.0, b'30', 'Sleep stage 2']\n",
      "[28020.0, b'120', 'Sleep stage 4']\n",
      "[28140.0, b'30', 'Sleep stage 3']\n",
      "[28170.0, b'30', 'Sleep stage 4']\n",
      "[28200.0, b'30', 'Sleep stage 3']\n",
      "[28230.0, b'30', 'Sleep stage 4']\n",
      "[28260.0, b'30', 'Sleep stage 3']\n",
      "[28290.0, b'30', 'Sleep stage 4']\n",
      "[28320.0, b'60', 'Sleep stage 3']\n",
      "[28380.0, b'30', 'Sleep stage 4']\n",
      "[28410.0, b'30', 'Sleep stage 3']\n",
      "[28440.0, b'30', 'Sleep stage 4']\n",
      "[28470.0, b'240', 'Sleep stage 3']\n",
      "[28710.0, b'30', 'Sleep stage W']\n",
      "[28740.0, b'90', 'Sleep stage 2']\n",
      "[28830.0, b'30', 'Sleep stage 3']\n",
      "[28860.0, b'870', 'Sleep stage 2']\n",
      "[29730.0, b'30', 'Sleep stage 3']\n",
      "[29760.0, b'330', 'Sleep stage 2']\n",
      "[30090.0, b'30', 'Sleep stage 3']\n",
      "[30120.0, b'30', 'Sleep stage 2']\n",
      "[30150.0, b'120', 'Sleep stage 3']\n",
      "[30270.0, b'30', 'Sleep stage 4']\n",
      "[30300.0, b'60', 'Sleep stage 2']\n",
      "[30360.0, b'30', 'Sleep stage 3']\n",
      "[30390.0, b'90', 'Sleep stage 2']\n",
      "[30480.0, b'120', 'Sleep stage R']\n",
      "[30600.0, b'60', 'Sleep stage 2']\n",
      "[30660.0, b'570', 'Sleep stage R']\n",
      "[31230.0, b'30', 'Sleep stage 1']\n",
      "[31260.0, b'60', 'Sleep stage 2']\n",
      "[31320.0, b'210', 'Sleep stage R']\n",
      "[31530.0, b'30', 'Sleep stage W']\n",
      "[31560.0, b'30', 'Sleep stage 1']\n",
      "[31590.0, b'90', 'Sleep stage 2']\n",
      "[31680.0, b'60', 'Sleep stage 1']\n",
      "[31740.0, b'330', 'Sleep stage 2']\n",
      "[32070.0, b'60', 'Sleep stage 1']\n",
      "[32130.0, b'510', 'Sleep stage 2']\n",
      "[32640.0, b'30', 'Sleep stage 3']\n",
      "[32670.0, b'570', 'Sleep stage 2']\n",
      "[33240.0, b'60', 'Sleep stage 3']\n",
      "[33300.0, b'60', 'Sleep stage 2']\n",
      "[33360.0, b'60', 'Sleep stage 3']\n",
      "[33420.0, b'90', 'Sleep stage 2']\n",
      "[33510.0, b'30', 'Sleep stage 3']\n",
      "[33540.0, b'60', 'Sleep stage 2']\n",
      "[33600.0, b'30', 'Sleep stage 4']\n",
      "[33630.0, b'30', 'Sleep stage 3']\n",
      "[33660.0, b'30', 'Sleep stage 4']\n",
      "[33690.0, b'60', 'Sleep stage 2']\n",
      "[33750.0, b'30', 'Sleep stage 3']\n",
      "[33780.0, b'360', 'Sleep stage 2']\n",
      "[34140.0, b'60', 'Sleep stage 3']\n",
      "[34200.0, b'510', 'Sleep stage 2']\n",
      "[34710.0, b'30', 'Sleep stage 3']\n",
      "[34740.0, b'90', 'Sleep stage 2']\n",
      "[34830.0, b'30', 'Sleep stage R']\n",
      "[34860.0, b'60', 'Sleep stage 2']\n",
      "[34920.0, b'90', 'Sleep stage R']\n",
      "[35010.0, b'30', 'Sleep stage 2']\n",
      "[35040.0, b'270', 'Sleep stage R']\n",
      "[35310.0, b'60', 'Sleep stage 1']\n",
      "[35370.0, b'720', 'Sleep stage 2']\n",
      "[36090.0, b'540', 'Sleep stage R']\n",
      "[36630.0, b'240', 'Sleep stage 1']\n",
      "[36870.0, b'1290', 'Sleep stage 2']\n",
      "[38160.0, b'30', 'Sleep stage 3']\n",
      "[38190.0, b'60', 'Sleep stage 2']\n",
      "[38250.0, b'60', 'Sleep stage 3']\n",
      "[38310.0, b'30', 'Sleep stage 2']\n",
      "[38340.0, b'30', 'Sleep stage 1']\n",
      "[38370.0, b'360', 'Sleep stage 2']\n",
      "[38730.0, b'30', 'Sleep stage 3']\n",
      "[38760.0, b'240', 'Sleep stage 2']\n",
      "[39000.0, b'30', 'Sleep stage 3']\n",
      "[39030.0, b'90', 'Sleep stage 2']\n",
      "[39120.0, b'30', 'Sleep stage 3']\n",
      "[39150.0, b'120', 'Sleep stage 2']\n",
      "[39270.0, b'60', 'Sleep stage 3']\n",
      "[39330.0, b'30', 'Sleep stage W']\n",
      "[39360.0, b'60', 'Sleep stage 1']\n",
      "[39420.0, b'750', 'Sleep stage 2']\n",
      "[40170.0, b'360', 'Sleep stage R']\n",
      "[40530.0, b'60', 'Sleep stage 1']\n",
      "[40590.0, b'240', 'Sleep stage R']\n",
      "[40830.0, b'90', 'Sleep stage 1']\n",
      "[40920.0, b'750', 'Sleep stage R']\n",
      "[41670.0, b'150', 'Sleep stage 1']\n",
      "[41820.0, b'180', 'Sleep stage 2']\n",
      "[42000.0, b'510', 'Sleep stage R']\n",
      "[42510.0, b'30', 'Sleep stage 2']\n",
      "[42540.0, b'90', 'Sleep stage R']\n",
      "[42630.0, b'30', 'Sleep stage W']\n",
      "[42660.0, b'60', 'Sleep stage 1']\n",
      "[42720.0, b'960', 'Sleep stage 2']\n",
      "[43680.0, b'30', 'Sleep stage 3']\n",
      "[43710.0, b'480', 'Sleep stage 2']\n",
      "[44190.0, b'30', 'Sleep stage 3']\n",
      "[44220.0, b'60', 'Sleep stage 1']\n",
      "[44280.0, b'960', 'Sleep stage 2']\n",
      "[45240.0, b'1050', 'Sleep stage R']\n",
      "[46290.0, b'90', 'Sleep stage 1']\n",
      "[46380.0, b'450', 'Sleep stage 2']\n",
      "[46830.0, b'60', 'Sleep stage 1']\n",
      "[46890.0, b'600', 'Sleep stage 2']\n",
      "[47490.0, b'60', 'Sleep stage W']\n",
      "[47550.0, b'120', 'Sleep stage 1']\n",
      "[47670.0, b'360', 'Sleep stage 2']\n",
      "[48030.0, b'60', 'Sleep stage 1']\n",
      "[48090.0, b'390', 'Sleep stage 2']\n",
      "[48480.0, b'90', 'Sleep stage 1']\n",
      "[48570.0, b'300', 'Sleep stage 2']\n",
      "[48870.0, b'150', 'Sleep stage 1']\n",
      "[49020.0, b'35100', 'Sleep stage W']\n",
      "[84120.0, b'2280', 'Sleep stage ?']\n"
     ]
    }
   ],
   "source": [
    "annotations = hyp_header['annotations']\n",
    "print(*annotations,sep='\\n')"
   ]
  },
  {
   "cell_type": "markdown",
   "id": "bc8a3a8e",
   "metadata": {},
   "source": [
    "process the hypnograms to convert into 30-second epochs"
   ]
  },
  {
   "cell_type": "code",
   "execution_count": 14,
   "id": "da5f25f9",
   "metadata": {},
   "outputs": [],
   "source": [
    "epoch_size = 30\n",
    "\n",
    "list_hyp = []\n",
    "for ann in annotations:\n",
    "    duration_in_sec = int(ann[1])\n",
    "    sleep_stage = ann[2][-1]\n",
    "    no_of_epochs = int(duration_in_sec/epoch_size)\n",
    "    if sleep_stage != '?':\n",
    "        list_hyp.extend(sleep_stage*no_of_epochs)"
   ]
  },
  {
   "cell_type": "code",
   "execution_count": 15,
   "id": "a2a41a6d",
   "metadata": {},
   "outputs": [
    {
     "data": {
      "text/plain": [
       "2804"
      ]
     },
     "execution_count": 15,
     "metadata": {},
     "output_type": "execute_result"
    }
   ],
   "source": [
    "len(list_hyp)"
   ]
  },
  {
   "cell_type": "markdown",
   "id": "f51aefc3",
   "metadata": {},
   "source": [
    "number of seconds = number of epochs * epoch size"
   ]
  },
  {
   "cell_type": "code",
   "execution_count": 16,
   "id": "39a0d04d",
   "metadata": {},
   "outputs": [
    {
     "data": {
      "text/plain": [
       "84120"
      ]
     },
     "execution_count": 16,
     "metadata": {},
     "output_type": "execute_result"
    }
   ],
   "source": [
    "len(list_hyp)*30"
   ]
  },
  {
   "cell_type": "code",
   "execution_count": 17,
   "id": "7172082d",
   "metadata": {},
   "outputs": [
    {
     "data": {
      "text/plain": [
       "W    1907\n",
       "2     545\n",
       "R     163\n",
       "1      94\n",
       "3      73\n",
       "4      22\n",
       "dtype: int64"
      ]
     },
     "execution_count": 17,
     "metadata": {},
     "output_type": "execute_result"
    }
   ],
   "source": [
    "pd.DataFrame(list_hyp).value_counts()"
   ]
  },
  {
   "cell_type": "markdown",
   "id": "9cf57e33",
   "metadata": {},
   "source": [
    "## convert stages letters to numbers by AASM format\n",
    "\n",
    "https://spiral.imperial.ac.uk/bitstream/10044/1/29344/2/EMBC15_1915_FI.pdf\n",
    "\n",
    "(e represents 'Movement Time')\n",
    "\n",
    "W, e -> 0\n",
    "\n",
    "1 -> 1\n",
    "\n",
    "2 -> 2\n",
    "\n",
    "3,4 -> 3\n",
    "\n",
    "R -> 4"
   ]
  },
  {
   "cell_type": "code",
   "execution_count": 18,
   "id": "db1ebbcd",
   "metadata": {},
   "outputs": [],
   "source": [
    "for i in range(len(list_hyp)):\n",
    "    if list_hyp[i] =='W' or list_hyp[i] == 'e':\n",
    "        list_hyp[i] = 0\n",
    "    elif list_hyp[i] == '1':\n",
    "        list_hyp[i] = 1\n",
    "    elif list_hyp[i] == '2':\n",
    "        list_hyp[i] = 2\n",
    "    elif list_hyp[i] == '3' or list_hyp[i] == '4':\n",
    "        list_hyp[i] = 3\n",
    "    elif list_hyp[i] == 'R':\n",
    "        list_hyp[i] = 4"
   ]
  },
  {
   "cell_type": "code",
   "execution_count": 19,
   "id": "a9ad39db",
   "metadata": {},
   "outputs": [
    {
     "data": {
      "text/plain": [
       "0    1907\n",
       "2     545\n",
       "4     163\n",
       "3      95\n",
       "1      94\n",
       "dtype: int64"
      ]
     },
     "execution_count": 19,
     "metadata": {},
     "output_type": "execute_result"
    }
   ],
   "source": [
    "pd.DataFrame(list_hyp).value_counts()"
   ]
  },
  {
   "cell_type": "markdown",
   "id": "c955cfbe",
   "metadata": {},
   "source": [
    "# Merging both files"
   ]
  },
  {
   "cell_type": "markdown",
   "id": "86d2552e",
   "metadata": {},
   "source": [
    "logic: \n",
    "\n",
    "if sampling rate = 100, then:\n",
    "\n",
    "100 datapoints means 1 second.\n",
    "\n",
    "3000 datapoints means 30 seconds\n"
   ]
  },
  {
   "cell_type": "markdown",
   "id": "7a5fc2e5",
   "metadata": {},
   "source": [
    "### for signal 0  - EEG-Fpz-Cz"
   ]
  },
  {
   "cell_type": "markdown",
   "id": "189d1ead",
   "metadata": {},
   "source": [
    "make an array merging both PSG and Hypnogram files"
   ]
  },
  {
   "cell_type": "code",
   "execution_count": 20,
   "id": "789b885e",
   "metadata": {},
   "outputs": [
    {
     "name": "stdout",
     "output_type": "stream",
     "text": [
      "len of the entire df: 2804\n",
      "len of first row: 2\n",
      "len of X: 3000\n",
      "sleep stage: 0\n"
     ]
    }
   ],
   "source": [
    "# make a list of tuples (X,Y)\n",
    "fpz_signals = signals[0]\n",
    "fpz_sampling_rate = signal_headers_df.loc[0, 'sample_rate']\n",
    "fpz_dataset = []\n",
    "step_size = epoch_size * fpz_sampling_rate #30*100= 3000\n",
    "\n",
    "for i in range(len(list_hyp)):\n",
    "    temp1 = []\n",
    "    for j in range(i*step_size, (i+1)*step_size):\n",
    "        temp1.append(fpz_signals[j])\n",
    "    fpz_dataset.append((temp1, list_hyp[i]))   \n",
    "\n",
    "    \n",
    "# print the lengths for confirmation\n",
    "print(\"len of the entire df:\", len(fpz_dataset))\n",
    "print(\"len of first row:\", len(fpz_dataset[0])) ## --> tuple (X array, sleep stage)\n",
    "print(\"len of X:\", len(fpz_dataset[0][0]))  ## --> X array\n",
    "print(\"sleep stage:\", fpz_dataset[0][1]) ##--> sleep stage\n",
    "# print(\"X array:\", fpz_dataset[0][0])  #--> tuple of X and Y"
   ]
  },
  {
   "cell_type": "markdown",
   "id": "74cea7c6",
   "metadata": {},
   "source": [
    "convert array to dataframe"
   ]
  },
  {
   "cell_type": "code",
   "execution_count": 21,
   "id": "8d62fb09",
   "metadata": {},
   "outputs": [
    {
     "name": "stdout",
     "output_type": "stream",
     "text": [
      "(2804, 2)\n"
     ]
    },
    {
     "data": {
      "text/html": [
       "<div>\n",
       "<style scoped>\n",
       "    .dataframe tbody tr th:only-of-type {\n",
       "        vertical-align: middle;\n",
       "    }\n",
       "\n",
       "    .dataframe tbody tr th {\n",
       "        vertical-align: top;\n",
       "    }\n",
       "\n",
       "    .dataframe thead th {\n",
       "        text-align: right;\n",
       "    }\n",
       "</style>\n",
       "<table border=\"1\" class=\"dataframe\">\n",
       "  <thead>\n",
       "    <tr style=\"text-align: right;\">\n",
       "      <th></th>\n",
       "      <th>EEG_Fpz_Cz</th>\n",
       "      <th>sleep_stage</th>\n",
       "    </tr>\n",
       "  </thead>\n",
       "  <tbody>\n",
       "    <tr>\n",
       "      <th>0</th>\n",
       "      <td>[11.492307692307692, 7.984615384615385, 6.2307...</td>\n",
       "      <td>0</td>\n",
       "    </tr>\n",
       "    <tr>\n",
       "      <th>1</th>\n",
       "      <td>[105.92307692307693, 104.07692307692308, 103.6...</td>\n",
       "      <td>0</td>\n",
       "    </tr>\n",
       "    <tr>\n",
       "      <th>2</th>\n",
       "      <td>[0.9692307692307693, -1.8923076923076925, 7.06...</td>\n",
       "      <td>0</td>\n",
       "    </tr>\n",
       "    <tr>\n",
       "      <th>3</th>\n",
       "      <td>[-6.230769230769231, -2.5384615384615388, 2.53...</td>\n",
       "      <td>0</td>\n",
       "    </tr>\n",
       "    <tr>\n",
       "      <th>4</th>\n",
       "      <td>[-54.323076923076925, -51.369230769230775, -51...</td>\n",
       "      <td>0</td>\n",
       "    </tr>\n",
       "  </tbody>\n",
       "</table>\n",
       "</div>"
      ],
      "text/plain": [
       "                                          EEG_Fpz_Cz  sleep_stage\n",
       "0  [11.492307692307692, 7.984615384615385, 6.2307...            0\n",
       "1  [105.92307692307693, 104.07692307692308, 103.6...            0\n",
       "2  [0.9692307692307693, -1.8923076923076925, 7.06...            0\n",
       "3  [-6.230769230769231, -2.5384615384615388, 2.53...            0\n",
       "4  [-54.323076923076925, -51.369230769230775, -51...            0"
      ]
     },
     "execution_count": 21,
     "metadata": {},
     "output_type": "execute_result"
    }
   ],
   "source": [
    "# convert to datafarme\n",
    "fpz_df = pd.DataFrame(fpz_dataset, columns=['EEG_Fpz_Cz','sleep_stage'])\n",
    "print(fpz_df.shape)\n",
    "fpz_df.head()"
   ]
  },
  {
   "cell_type": "markdown",
   "id": "291925b7",
   "metadata": {},
   "source": [
    "save dataframe"
   ]
  },
  {
   "cell_type": "code",
   "execution_count": 22,
   "id": "2dd81366",
   "metadata": {},
   "outputs": [
    {
     "name": "stdout",
     "output_type": "stream",
     "text": [
      "fpz csv saved! F:\\PROGRAMMING\\EEG\\processed_sleep_edf\\fpz\\\\SC4021_fpz_df.csv\n"
     ]
    }
   ],
   "source": [
    "fpz_file_name = r'F:\\PROGRAMMING\\EEG\\processed_sleep_edf\\fpz\\\\'+file_prefix+'_fpz_df.csv'\n",
    "fpz_df.to_csv(fpz_file_name, index=False)\n",
    "print(\"fpz csv saved!\", fpz_file_name)"
   ]
  },
  {
   "cell_type": "markdown",
   "id": "20523a04",
   "metadata": {},
   "source": [
    "### for signal 1  - EEG-Pz-Oz"
   ]
  },
  {
   "cell_type": "markdown",
   "id": "c98347c3",
   "metadata": {},
   "source": [
    "make an array merging both PSG and Hypnogram files"
   ]
  },
  {
   "cell_type": "code",
   "execution_count": 23,
   "id": "cda17271",
   "metadata": {},
   "outputs": [
    {
     "name": "stdout",
     "output_type": "stream",
     "text": [
      "len of the entire df: 2804\n",
      "len of first row: 2\n",
      "len of X: 3000\n",
      "sleep stage: 0\n"
     ]
    }
   ],
   "source": [
    "# make a list of tuples (X,Y)\n",
    "pz_signals = signals[1]\n",
    "pz_sampling_rate = signal_headers_df.loc[1, 'sample_rate']\n",
    "pz_dataset = []\n",
    "step_size = epoch_size * pz_sampling_rate #30*100= 3000\n",
    "\n",
    "for i in range(len(list_hyp)):\n",
    "    temp1 = []\n",
    "    for j in range(i*step_size, (i+1)*step_size):\n",
    "        temp1.append(pz_signals[j])\n",
    "    pz_dataset.append((temp1, list_hyp[i]))   \n",
    "\n",
    "# print the lengths for confirmation\n",
    "print(\"len of the entire df:\", len(pz_dataset))\n",
    "print(\"len of first row:\", len(pz_dataset[0])) ## --> tuple (X array, sleep stage)\n",
    "print(\"len of X:\", len(pz_dataset[0][0]))  ## --> X array\n",
    "print(\"sleep stage:\", pz_dataset[0][1]) ##--> sleep stage\n",
    "# # print(\"X array:\", pz_dataset[0][0])  #--> tuple of X and Y"
   ]
  },
  {
   "cell_type": "markdown",
   "id": "a8e85a8f",
   "metadata": {},
   "source": [
    "convert array to dataframe"
   ]
  },
  {
   "cell_type": "code",
   "execution_count": 24,
   "id": "1aa1403e",
   "metadata": {},
   "outputs": [
    {
     "name": "stdout",
     "output_type": "stream",
     "text": [
      "(2804, 2)\n"
     ]
    },
    {
     "data": {
      "text/html": [
       "<div>\n",
       "<style scoped>\n",
       "    .dataframe tbody tr th:only-of-type {\n",
       "        vertical-align: middle;\n",
       "    }\n",
       "\n",
       "    .dataframe tbody tr th {\n",
       "        vertical-align: top;\n",
       "    }\n",
       "\n",
       "    .dataframe thead th {\n",
       "        text-align: right;\n",
       "    }\n",
       "</style>\n",
       "<table border=\"1\" class=\"dataframe\">\n",
       "  <thead>\n",
       "    <tr style=\"text-align: right;\">\n",
       "      <th></th>\n",
       "      <th>EEG_Pz_Oz</th>\n",
       "      <th>sleep_stage</th>\n",
       "    </tr>\n",
       "  </thead>\n",
       "  <tbody>\n",
       "    <tr>\n",
       "      <th>0</th>\n",
       "      <td>[-1.6048840048840285, 0.6730158730158495, -1.5...</td>\n",
       "      <td>0</td>\n",
       "    </tr>\n",
       "    <tr>\n",
       "      <th>1</th>\n",
       "      <td>[13.20146520146518, 23.037851037851016, 22.520...</td>\n",
       "      <td>0</td>\n",
       "    </tr>\n",
       "    <tr>\n",
       "      <th>2</th>\n",
       "      <td>[19.621001221001197, 11.958974358974336, 7.817...</td>\n",
       "      <td>0</td>\n",
       "    </tr>\n",
       "    <tr>\n",
       "      <th>3</th>\n",
       "      <td>[-9.888156288156312, -15.582905982906007, -24....</td>\n",
       "      <td>0</td>\n",
       "    </tr>\n",
       "    <tr>\n",
       "      <th>4</th>\n",
       "      <td>[-0.15531135531137885, 6.5748473748473515, -2....</td>\n",
       "      <td>0</td>\n",
       "    </tr>\n",
       "  </tbody>\n",
       "</table>\n",
       "</div>"
      ],
      "text/plain": [
       "                                           EEG_Pz_Oz  sleep_stage\n",
       "0  [-1.6048840048840285, 0.6730158730158495, -1.5...            0\n",
       "1  [13.20146520146518, 23.037851037851016, 22.520...            0\n",
       "2  [19.621001221001197, 11.958974358974336, 7.817...            0\n",
       "3  [-9.888156288156312, -15.582905982906007, -24....            0\n",
       "4  [-0.15531135531137885, 6.5748473748473515, -2....            0"
      ]
     },
     "execution_count": 24,
     "metadata": {},
     "output_type": "execute_result"
    }
   ],
   "source": [
    "# convert to datafarme\n",
    "pz_df = pd.DataFrame(pz_dataset, columns=['EEG_Pz_Oz','sleep_stage'])\n",
    "print(pz_df.shape)\n",
    "pz_df.head()"
   ]
  },
  {
   "cell_type": "markdown",
   "id": "67bd6103",
   "metadata": {},
   "source": [
    "save dataframe"
   ]
  },
  {
   "cell_type": "code",
   "execution_count": 25,
   "id": "ae9d6123",
   "metadata": {},
   "outputs": [
    {
     "name": "stdout",
     "output_type": "stream",
     "text": [
      "pz csv saved! F:\\PROGRAMMING\\EEG\\processed_sleep_edf\\pz\\\\SC4021_pz_df.csv\n"
     ]
    }
   ],
   "source": [
    "pz_file_name = r'F:\\PROGRAMMING\\EEG\\processed_sleep_edf\\pz\\\\'+file_prefix+'_pz_df.csv'\n",
    "pz_df.to_csv(pz_file_name, index=False)\n",
    "print(\"pz csv saved!\", pz_file_name)"
   ]
  },
  {
   "cell_type": "markdown",
   "id": "cee3292c",
   "metadata": {},
   "source": [
    "### for signal 2  - EOG-Horizontal"
   ]
  },
  {
   "cell_type": "markdown",
   "id": "448d2dc3",
   "metadata": {},
   "source": [
    "make an array merging both PSG and Hypnogram files"
   ]
  },
  {
   "cell_type": "code",
   "execution_count": 26,
   "id": "4be19d4d",
   "metadata": {},
   "outputs": [
    {
     "name": "stdout",
     "output_type": "stream",
     "text": [
      "len of the entire df: 2804\n",
      "len of first row: 2\n",
      "len of X: 3000\n",
      "sleep stage: 0\n"
     ]
    }
   ],
   "source": [
    "# make a list of tuples (X,Y)\n",
    "eog_signals = signals[2]\n",
    "eog_sampling_rate = signal_headers_df.loc[2, 'sample_rate']\n",
    "eog_dataset = []\n",
    "step_size = epoch_size * eog_sampling_rate #30*100= 3000\n",
    "\n",
    "for i in range(len(list_hyp)):\n",
    "    temp1 = []\n",
    "    for j in range(i*step_size, (i+1)*step_size):\n",
    "        temp1.append(eog_signals[j])\n",
    "    eog_dataset.append((temp1, list_hyp[i]))   \n",
    "\n",
    "    \n",
    "# print the lengths for confirmation\n",
    "print(\"len of the entire df:\", len(eog_dataset))\n",
    "print(\"len of first row:\", len(eog_dataset[0])) ## --> tuple (X array, sleep stage)\n",
    "print(\"len of X:\", len(eog_dataset[0][0]))  ## --> X array\n",
    "print(\"sleep stage:\", eog_dataset[0][1]) ##--> sleep stage\n",
    "# print(\"X array:\", eog_dataset[0][0])  #--> tuple of X and Y"
   ]
  },
  {
   "cell_type": "markdown",
   "id": "a0700cd5",
   "metadata": {},
   "source": [
    "convert array to dataframe"
   ]
  },
  {
   "cell_type": "code",
   "execution_count": 27,
   "id": "dba7f9f8",
   "metadata": {},
   "outputs": [
    {
     "name": "stdout",
     "output_type": "stream",
     "text": [
      "(2804, 2)\n"
     ]
    },
    {
     "data": {
      "text/html": [
       "<div>\n",
       "<style scoped>\n",
       "    .dataframe tbody tr th:only-of-type {\n",
       "        vertical-align: middle;\n",
       "    }\n",
       "\n",
       "    .dataframe tbody tr th {\n",
       "        vertical-align: top;\n",
       "    }\n",
       "\n",
       "    .dataframe thead th {\n",
       "        text-align: right;\n",
       "    }\n",
       "</style>\n",
       "<table border=\"1\" class=\"dataframe\">\n",
       "  <thead>\n",
       "    <tr style=\"text-align: right;\">\n",
       "      <th></th>\n",
       "      <th>EOG_horizontal</th>\n",
       "      <th>sleep_stage</th>\n",
       "    </tr>\n",
       "  </thead>\n",
       "  <tbody>\n",
       "    <tr>\n",
       "      <th>0</th>\n",
       "      <td>[-92.88644688644689, -88.7985347985348, -86.98...</td>\n",
       "      <td>0</td>\n",
       "    </tr>\n",
       "    <tr>\n",
       "      <th>1</th>\n",
       "      <td>[-104.24175824175823, -93.34065934065934, -86....</td>\n",
       "      <td>0</td>\n",
       "    </tr>\n",
       "    <tr>\n",
       "      <th>2</th>\n",
       "      <td>[29.750915750915752, 31.567765567765566, 22.48...</td>\n",
       "      <td>0</td>\n",
       "    </tr>\n",
       "    <tr>\n",
       "      <th>3</th>\n",
       "      <td>[-0.2271062271062271, -6.131868131868131, -2.0...</td>\n",
       "      <td>0</td>\n",
       "    </tr>\n",
       "    <tr>\n",
       "      <th>4</th>\n",
       "      <td>[18.395604395604394, 31.113553113553113, 7.040...</td>\n",
       "      <td>0</td>\n",
       "    </tr>\n",
       "  </tbody>\n",
       "</table>\n",
       "</div>"
      ],
      "text/plain": [
       "                                      EOG_horizontal  sleep_stage\n",
       "0  [-92.88644688644689, -88.7985347985348, -86.98...            0\n",
       "1  [-104.24175824175823, -93.34065934065934, -86....            0\n",
       "2  [29.750915750915752, 31.567765567765566, 22.48...            0\n",
       "3  [-0.2271062271062271, -6.131868131868131, -2.0...            0\n",
       "4  [18.395604395604394, 31.113553113553113, 7.040...            0"
      ]
     },
     "execution_count": 27,
     "metadata": {},
     "output_type": "execute_result"
    }
   ],
   "source": [
    "# convert to datafarme\n",
    "eog_df = pd.DataFrame(eog_dataset, columns=['EOG_horizontal','sleep_stage'])\n",
    "print(eog_df.shape)\n",
    "eog_df.head()"
   ]
  },
  {
   "cell_type": "markdown",
   "id": "f8649c12",
   "metadata": {},
   "source": [
    "save dataframe"
   ]
  },
  {
   "cell_type": "code",
   "execution_count": 28,
   "id": "4c777f85",
   "metadata": {},
   "outputs": [
    {
     "name": "stdout",
     "output_type": "stream",
     "text": [
      "eog csv saved! F:\\PROGRAMMING\\EEG\\processed_sleep_edf\\eog\\\\SC4021_eog_df.csv\n"
     ]
    }
   ],
   "source": [
    "eog_file_name = r'F:\\PROGRAMMING\\EEG\\processed_sleep_edf\\eog\\\\'+file_prefix+'_eog_df.csv'\n",
    "eog_df.to_csv(eog_file_name, index=False)\n",
    "print(\"eog csv saved!\", eog_file_name)"
   ]
  },
  {
   "cell_type": "code",
   "execution_count": null,
   "id": "5adf087a",
   "metadata": {},
   "outputs": [],
   "source": []
  },
  {
   "cell_type": "code",
   "execution_count": null,
   "id": "fffd2b3c",
   "metadata": {},
   "outputs": [],
   "source": []
  },
  {
   "cell_type": "code",
   "execution_count": null,
   "id": "43ce1742",
   "metadata": {},
   "outputs": [],
   "source": []
  }
 ],
 "metadata": {
  "kernelspec": {
   "display_name": "Python 3",
   "language": "python",
   "name": "python3"
  },
  "language_info": {
   "codemirror_mode": {
    "name": "ipython",
    "version": 3
   },
   "file_extension": ".py",
   "mimetype": "text/x-python",
   "name": "python",
   "nbconvert_exporter": "python",
   "pygments_lexer": "ipython3",
   "version": "3.9.4"
  }
 },
 "nbformat": 4,
 "nbformat_minor": 5
}
