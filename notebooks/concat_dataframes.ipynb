{
 "cells": [
  {
   "cell_type": "code",
   "execution_count": 1,
   "id": "39cd065d",
   "metadata": {},
   "outputs": [],
   "source": [
    "import pandas as pd"
   ]
  },
  {
   "cell_type": "code",
   "execution_count": 2,
   "id": "dc68572e",
   "metadata": {},
   "outputs": [],
   "source": [
    "channel_name = 'eog'\n",
    "\n",
    "folder_path = r'F:\\PROGRAMMING\\EEG\\processed_sleep_edf\\\\'+channel_name+'\\\\'\n",
    "filename_postfix = '_'+channel_name+'_df.csv'\n",
    "\n",
    "df1 = pd.read_csv(folder_path+'SC4001'+filename_postfix)\n",
    "df2 = pd.read_csv(folder_path+'SC4002'+filename_postfix)\n",
    "df3 = pd.read_csv(folder_path+'SC4011'+filename_postfix)\n",
    "df4 = pd.read_csv(folder_path+'SC4012'+filename_postfix)\n",
    "df5 = pd.read_csv(folder_path+'SC4021'+filename_postfix)\n",
    "\n",
    "dataframes = [df1, df2, df3, df4, df5]\n",
    "result_dataframe = pd.concat(dataframes)"
   ]
  },
  {
   "cell_type": "code",
   "execution_count": 3,
   "id": "59c7d453",
   "metadata": {},
   "outputs": [
    {
     "data": {
      "text/plain": [
       "(13934, 2)"
      ]
     },
     "execution_count": 3,
     "metadata": {},
     "output_type": "execute_result"
    }
   ],
   "source": [
    "result_dataframe.shape"
   ]
  },
  {
   "cell_type": "code",
   "execution_count": 4,
   "id": "d6e0a514",
   "metadata": {},
   "outputs": [
    {
     "data": {
      "text/html": [
       "<div>\n",
       "<style scoped>\n",
       "    .dataframe tbody tr th:only-of-type {\n",
       "        vertical-align: middle;\n",
       "    }\n",
       "\n",
       "    .dataframe tbody tr th {\n",
       "        vertical-align: top;\n",
       "    }\n",
       "\n",
       "    .dataframe thead th {\n",
       "        text-align: right;\n",
       "    }\n",
       "</style>\n",
       "<table border=\"1\" class=\"dataframe\">\n",
       "  <thead>\n",
       "    <tr style=\"text-align: right;\">\n",
       "      <th></th>\n",
       "      <th>EOG_horizontal</th>\n",
       "      <th>sleep_stage</th>\n",
       "    </tr>\n",
       "  </thead>\n",
       "  <tbody>\n",
       "    <tr>\n",
       "      <th>0</th>\n",
       "      <td>[16.50866910866911, 16.015873015873016, 9.6095...</td>\n",
       "      <td>0</td>\n",
       "    </tr>\n",
       "    <tr>\n",
       "      <th>1</th>\n",
       "      <td>[-36.22051282051282, -17.0014652014652, -5.174...</td>\n",
       "      <td>0</td>\n",
       "    </tr>\n",
       "    <tr>\n",
       "      <th>2</th>\n",
       "      <td>[8.13113553113553, -23.9006105006105, -14.0446...</td>\n",
       "      <td>0</td>\n",
       "    </tr>\n",
       "    <tr>\n",
       "      <th>3</th>\n",
       "      <td>[-100.77680097680098, -102.74798534798535, -11...</td>\n",
       "      <td>0</td>\n",
       "    </tr>\n",
       "    <tr>\n",
       "      <th>4</th>\n",
       "      <td>[-12.566300366300368, -4.681562881562882, -8.6...</td>\n",
       "      <td>0</td>\n",
       "    </tr>\n",
       "  </tbody>\n",
       "</table>\n",
       "</div>"
      ],
      "text/plain": [
       "                                      EOG_horizontal  sleep_stage\n",
       "0  [16.50866910866911, 16.015873015873016, 9.6095...            0\n",
       "1  [-36.22051282051282, -17.0014652014652, -5.174...            0\n",
       "2  [8.13113553113553, -23.9006105006105, -14.0446...            0\n",
       "3  [-100.77680097680098, -102.74798534798535, -11...            0\n",
       "4  [-12.566300366300368, -4.681562881562882, -8.6...            0"
      ]
     },
     "execution_count": 4,
     "metadata": {},
     "output_type": "execute_result"
    }
   ],
   "source": [
    "result_dataframe.head()"
   ]
  },
  {
   "cell_type": "code",
   "execution_count": 5,
   "id": "8bbb270d",
   "metadata": {},
   "outputs": [
    {
     "name": "stdout",
     "output_type": "stream",
     "text": [
      "saved! at:  F:\\PROGRAMMING\\EEG\\processed_sleep_edf\\combined_eog\\eog_12345.csv\n"
     ]
    }
   ],
   "source": [
    "combined_folder_path = r'F:\\PROGRAMMING\\EEG\\processed_sleep_edf\\combined_'+channel_name+'\\\\'+channel_name\n",
    "result_dataframe.to_csv(combined_folder_path+'_12345.csv', index=False)\n",
    "print('saved! at: ', combined_folder_path+'_12345.csv')"
   ]
  },
  {
   "cell_type": "code",
   "execution_count": null,
   "id": "80e49bc6",
   "metadata": {},
   "outputs": [],
   "source": []
  }
 ],
 "metadata": {
  "kernelspec": {
   "display_name": "Python 3",
   "language": "python",
   "name": "python3"
  },
  "language_info": {
   "codemirror_mode": {
    "name": "ipython",
    "version": 3
   },
   "file_extension": ".py",
   "mimetype": "text/x-python",
   "name": "python",
   "nbconvert_exporter": "python",
   "pygments_lexer": "ipython3",
   "version": "3.9.4"
  }
 },
 "nbformat": 4,
 "nbformat_minor": 5
}
